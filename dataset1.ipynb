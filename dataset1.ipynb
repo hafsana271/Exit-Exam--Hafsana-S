{
 "cells": [
  {
   "cell_type": "code",
   "execution_count": 3,
   "id": "19b37e7a-0128-4079-a303-5d0fff12fb83",
   "metadata": {},
   "outputs": [],
   "source": [
    "import pandas as pd"
   ]
  },
  {
   "cell_type": "code",
   "execution_count": 5,
   "id": "54edc006-e015-4e9a-b585-36e9a9599e6d",
   "metadata": {},
   "outputs": [],
   "source": [
    "import numpy as np"
   ]
  },
  {
   "cell_type": "code",
   "execution_count": 7,
   "id": "17ca4eed-d1e3-4b2d-ac00-ca3bba11459c",
   "metadata": {},
   "outputs": [],
   "source": [
    "df=pd.read_csv('dataset1 - adult.data.csv')"
   ]
  },
  {
   "cell_type": "code",
   "execution_count": 117,
   "id": "5909d7fe-3a3b-4fee-a1f3-77cbdc1aea78",
   "metadata": {},
   "outputs": [
    {
     "data": {
      "text/html": [
       "<div>\n",
       "<style scoped>\n",
       "    .dataframe tbody tr th:only-of-type {\n",
       "        vertical-align: middle;\n",
       "    }\n",
       "\n",
       "    .dataframe tbody tr th {\n",
       "        vertical-align: top;\n",
       "    }\n",
       "\n",
       "    .dataframe thead th {\n",
       "        text-align: right;\n",
       "    }\n",
       "</style>\n",
       "<table border=\"1\" class=\"dataframe\">\n",
       "  <thead>\n",
       "    <tr style=\"text-align: right;\">\n",
       "      <th></th>\n",
       "      <th>age</th>\n",
       "      <th>workclass</th>\n",
       "      <th>fnlwgt</th>\n",
       "      <th>education</th>\n",
       "      <th>education-num</th>\n",
       "      <th>marital-status</th>\n",
       "      <th>occupation</th>\n",
       "      <th>relationship</th>\n",
       "      <th>race</th>\n",
       "      <th>sex</th>\n",
       "      <th>capital-gain</th>\n",
       "      <th>capital-loss</th>\n",
       "      <th>hours-per-week</th>\n",
       "      <th>native-country</th>\n",
       "      <th>salary</th>\n",
       "    </tr>\n",
       "  </thead>\n",
       "  <tbody>\n",
       "    <tr>\n",
       "      <th>0</th>\n",
       "      <td>39</td>\n",
       "      <td>State-gov</td>\n",
       "      <td>77516</td>\n",
       "      <td>Bachelors</td>\n",
       "      <td>13</td>\n",
       "      <td>Never-married</td>\n",
       "      <td>Adm-clerical</td>\n",
       "      <td>Not-in-family</td>\n",
       "      <td>White</td>\n",
       "      <td>Male</td>\n",
       "      <td>2174</td>\n",
       "      <td>0</td>\n",
       "      <td>40</td>\n",
       "      <td>United-States</td>\n",
       "      <td>&lt;=50K</td>\n",
       "    </tr>\n",
       "    <tr>\n",
       "      <th>1</th>\n",
       "      <td>50</td>\n",
       "      <td>Self-emp-not-inc</td>\n",
       "      <td>83311</td>\n",
       "      <td>Bachelors</td>\n",
       "      <td>13</td>\n",
       "      <td>Married-civ-spouse</td>\n",
       "      <td>Exec-managerial</td>\n",
       "      <td>Husband</td>\n",
       "      <td>White</td>\n",
       "      <td>Male</td>\n",
       "      <td>0</td>\n",
       "      <td>0</td>\n",
       "      <td>13</td>\n",
       "      <td>United-States</td>\n",
       "      <td>&lt;=50K</td>\n",
       "    </tr>\n",
       "    <tr>\n",
       "      <th>2</th>\n",
       "      <td>38</td>\n",
       "      <td>Private</td>\n",
       "      <td>215646</td>\n",
       "      <td>HS-grad</td>\n",
       "      <td>9</td>\n",
       "      <td>Divorced</td>\n",
       "      <td>Handlers-cleaners</td>\n",
       "      <td>Not-in-family</td>\n",
       "      <td>White</td>\n",
       "      <td>Male</td>\n",
       "      <td>0</td>\n",
       "      <td>0</td>\n",
       "      <td>40</td>\n",
       "      <td>United-States</td>\n",
       "      <td>&lt;=50K</td>\n",
       "    </tr>\n",
       "    <tr>\n",
       "      <th>3</th>\n",
       "      <td>53</td>\n",
       "      <td>Private</td>\n",
       "      <td>234721</td>\n",
       "      <td>11th</td>\n",
       "      <td>7</td>\n",
       "      <td>Married-civ-spouse</td>\n",
       "      <td>Handlers-cleaners</td>\n",
       "      <td>Husband</td>\n",
       "      <td>Black</td>\n",
       "      <td>Male</td>\n",
       "      <td>0</td>\n",
       "      <td>0</td>\n",
       "      <td>40</td>\n",
       "      <td>United-States</td>\n",
       "      <td>&lt;=50K</td>\n",
       "    </tr>\n",
       "    <tr>\n",
       "      <th>4</th>\n",
       "      <td>28</td>\n",
       "      <td>Private</td>\n",
       "      <td>338409</td>\n",
       "      <td>Bachelors</td>\n",
       "      <td>13</td>\n",
       "      <td>Married-civ-spouse</td>\n",
       "      <td>Prof-specialty</td>\n",
       "      <td>Wife</td>\n",
       "      <td>Black</td>\n",
       "      <td>Female</td>\n",
       "      <td>0</td>\n",
       "      <td>0</td>\n",
       "      <td>40</td>\n",
       "      <td>Cuba</td>\n",
       "      <td>&lt;=50K</td>\n",
       "    </tr>\n",
       "  </tbody>\n",
       "</table>\n",
       "</div>"
      ],
      "text/plain": [
       "   age         workclass  fnlwgt  education  education-num  \\\n",
       "0   39         State-gov   77516  Bachelors             13   \n",
       "1   50  Self-emp-not-inc   83311  Bachelors             13   \n",
       "2   38           Private  215646    HS-grad              9   \n",
       "3   53           Private  234721       11th              7   \n",
       "4   28           Private  338409  Bachelors             13   \n",
       "\n",
       "       marital-status         occupation   relationship   race     sex  \\\n",
       "0       Never-married       Adm-clerical  Not-in-family  White    Male   \n",
       "1  Married-civ-spouse    Exec-managerial        Husband  White    Male   \n",
       "2            Divorced  Handlers-cleaners  Not-in-family  White    Male   \n",
       "3  Married-civ-spouse  Handlers-cleaners        Husband  Black    Male   \n",
       "4  Married-civ-spouse     Prof-specialty           Wife  Black  Female   \n",
       "\n",
       "   capital-gain  capital-loss  hours-per-week native-country salary  \n",
       "0          2174             0              40  United-States  <=50K  \n",
       "1             0             0              13  United-States  <=50K  \n",
       "2             0             0              40  United-States  <=50K  \n",
       "3             0             0              40  United-States  <=50K  \n",
       "4             0             0              40           Cuba  <=50K  "
      ]
     },
     "execution_count": 117,
     "metadata": {},
     "output_type": "execute_result"
    }
   ],
   "source": [
    "df.head()"
   ]
  },
  {
   "cell_type": "code",
   "execution_count": 17,
   "id": "10df8d77-71b8-4442-a0b5-21daf0b4822c",
   "metadata": {},
   "outputs": [
    {
     "data": {
      "text/plain": [
       "(32561, 15)"
      ]
     },
     "execution_count": 17,
     "metadata": {},
     "output_type": "execute_result"
    }
   ],
   "source": [
    "df.shape"
   ]
  },
  {
   "cell_type": "code",
   "execution_count": null,
   "id": "153ec5d1-2fa9-471e-8a35-5ec8b6a61793",
   "metadata": {},
   "outputs": [],
   "source": [
    "1.Calculate the mean, median, and standard deviation of the \"age\" and \"hours-per-week\" columns. What do these values suggest about the distribution of ages and working hours in the dataset?"
   ]
  },
  {
   "cell_type": "code",
   "execution_count": 32,
   "id": "00ae0154-5f41-49ac-bb0a-f4ecd462dc87",
   "metadata": {},
   "outputs": [],
   "source": [
    "age_stats = df['age'].agg(['mean', 'median', 'std'])\n",
    "hours_per_week_stats = df['hours-per-week'].agg(['mean', 'median', 'std'])\n"
   ]
  },
  {
   "cell_type": "code",
   "execution_count": 35,
   "id": "b4536748-6dea-4049-8332-0b1e11a3f666",
   "metadata": {},
   "outputs": [],
   "source": [
    "2.Find the distribution of individuals across different \"workclass.\" Which workclass category is the most common?\n"
   ]
  },
  {
   "cell_type": "code",
   "execution_count": 119,
   "id": "f8091622-5ab0-4f95-bf03-25dc2004afc6",
   "metadata": {},
   "outputs": [],
   "source": [
    "workclass_distribution = df['workclass'].value_counts()\n"
   ]
  },
  {
   "cell_type": "code",
   "execution_count": null,
   "id": "21046fd6-ea96-4e7e-8bcc-374fca686c17",
   "metadata": {},
   "outputs": [],
   "source": [
    "# most common workclass = Private"
   ]
  },
  {
   "cell_type": "code",
   "execution_count": 42,
   "id": "81bce487-b6bb-48d5-a595-aa6fb9719136",
   "metadata": {},
   "outputs": [],
   "source": [
    "3.Analyze the frequency distribution of \"education\" levels. What is the most common education level, and how does it correlate with \"salary\" (<=50K or >50K)?\n",
    "\n"
   ]
  },
  {
   "cell_type": "code",
   "execution_count": 56,
   "id": "cda0cfc7-5cd1-408f-a1af-f43fc46a6fe6",
   "metadata": {},
   "outputs": [],
   "source": [
    "education_distribution = df['education'].value_counts()\n",
    "education_salary_correlation = pd.crosstab(df['education'], df['salary'], normalize='index')"
   ]
  },
  {
   "cell_type": "code",
   "execution_count": 50,
   "id": "89d48d9f-8728-4c64-8eff-383680d7287d",
   "metadata": {},
   "outputs": [],
   "source": [
    "4.How many unique \"native-country\" values are there in the dataset? Which country has the most individuals represented?"
   ]
  },
  {
   "cell_type": "code",
   "execution_count": 70,
   "id": "a567d972-5d38-4d39-84d4-adf8ad7280bb",
   "metadata": {},
   "outputs": [],
   "source": [
    "unique_native_countries = df['native-country'].nunique()\n",
    "most_represented_country = df['native-country'].value_counts().idxmax()"
   ]
  },
  {
   "cell_type": "code",
   "execution_count": null,
   "id": "2929c0f7-120e-4448-b49a-766bbf787304",
   "metadata": {},
   "outputs": [],
   "source": [
    "9.Investigate if there is a significant difference in \"hours-per-week\" between males and females.\n",
    "\n"
   ]
  },
  {
   "cell_type": "code",
   "execution_count": 93,
   "id": "71e2671d-2bcc-4193-91b6-df615a4e430f",
   "metadata": {},
   "outputs": [],
   "source": [
    "hours_per_week_by_gender = df.groupby('sex')['hours-per-week'].describe()"
   ]
  },
  {
   "cell_type": "code",
   "execution_count": null,
   "id": "a10948ad-1636-4776-b003-77580513fe5b",
   "metadata": {},
   "outputs": [],
   "source": [
    "10.Create a bar chart showing the number of individuals in each \"workclass\" category. Which workclass has the highest representation?\n",
    "\n"
   ]
  },
  {
   "cell_type": "code",
   "execution_count": 109,
   "id": "5ae07fa1-9bcb-48cc-92cb-8b365b2b51e7",
   "metadata": {},
   "outputs": [
    {
     "data": {
      "image/png": "[encoded data removed]",
      "text/plain": [
       "<Figure size 1000x600 with 1 Axes>"
      ]
     },
     "metadata": {},
     "output_type": "display_data"
    }
   ],
   "source": [
    "import matplotlib.pyplot as plt\n",
    "plt.figure(figsize=(10, 6))\n",
    "bar_chart = df['workclass'].value_counts().plot(kind='bar', color='skyblue')\n",
    "bar_chart.set_title('Number of Individuals in Each Workclass Category')\n",
    "bar_chart.set_xlabel('Workclass')\n",
    "bar_chart.set_ylabel('Count')\n",
    "plt.show()\n",
    "\n"
   ]
  },
  {
   "cell_type": "code",
   "execution_count": null,
   "id": "6d033f1b-217a-4317-8b33-2c4bfffc1f54",
   "metadata": {},
   "outputs": [],
   "source": [
    "#Highest Representation - Private"
   ]
  },
  {
   "cell_type": "code",
   "execution_count": null,
   "id": "6b9cc507-3ca3-4bcb-9493-f1bc1716df6b",
   "metadata": {},
   "outputs": [],
   "source": []
  }
 ],
 "metadata": {
  "kernelspec": {
   "display_name": "Python 3 (ipykernel)",
   "language": "python",
   "name": "python3"
  },
  "language_info": {
   "codemirror_mode": {
    "name": "ipython",
    "version": 3
   },
   "file_extension": ".py",
   "mimetype": "text/x-python",
   "name": "python",
   "nbconvert_exporter": "python",
   "pygments_lexer": "ipython3",
   "version": "3.12.4"
  }
 },
 "nbformat": 4,
 "nbformat_minor": 5
}
